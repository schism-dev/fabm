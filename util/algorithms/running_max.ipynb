{
 "cells": [
  {
   "cell_type": "markdown",
   "source": [
    "# Prototype: an efficient, approximate running maximum filter\r\n",
    "\r\n",
    "The window size (units of time) is denoted as $p$.\r\n",
    "\r\n",
    "Constraints:\r\n",
    "* The filter uses a prescribed number of bins, $n$, to store the history.\r\n",
    "  Typically $n$ << the number of time steps the model would take to cover the window.\r\n",
    "  For instance, a 1-year running mean may use just 1 bin. In that case, the maximum during very first year will be set to \"missing value\".\r\n",
    "  In the entire subsequent year, the maximum will be equal to the maximum over the first year. And so on.\r\n",
    "  By definition, this means the running maximum will be an approximation that ignores all recent history (of duration window size / # bins).\r\n",
    "* We have no advance knowledge about the model time step $\\Delta t$, which may be variable."
   ],
   "metadata": {}
  },
  {
   "cell_type": "code",
   "execution_count": null,
   "source": [
    "import numpy\r\n",
    "from matplotlib import pyplot\r\n",
    "\r\n",
    "p = 1.                          # window size time units\r\n",
    "delta_t = 1. / 24. / 6. / 365   # model time step in time units\r\n",
    "duration = 5.                   # simulation duration in time units\r\n",
    "n = 1                           # number of bins for history (covering period p)\r\n",
    "missing_value = -2.             # value to return while the simulation has not covered 1 window size yet"
   ],
   "outputs": [],
   "metadata": {}
  },
  {
   "cell_type": "code",
   "execution_count": null,
   "source": [
    "class Filter:\r\n",
    "   def __init__(self):\r\n",
    "      self.history = numpy.zeros((n,))\r\n",
    "      self.previous_time = 0.\r\n",
    "      self.previous_value = 0\r\n",
    "      self.ibin = -1\r\n",
    "      self.bin_end_time = 0.\r\n",
    "      self.max = missing_value\r\n",
    "      self.complete = False\r\n",
    "\r\n",
    "   def __call__(self, now: float, value: float) -> float:\r\n",
    "      if self.ibin == -1:\r\n",
    "         self.bin_end_time = now + p / n\r\n",
    "         self.ibin = 0\r\n",
    "\r\n",
    "      while now >= self.bin_end_time:\r\n",
    "         # Interpolate to value at right bin time\r\n",
    "         w = (self.bin_end_time - self.previous_time) / (now - self.previous_time)\r\n",
    "         self.previous_time = self.bin_end_time\r\n",
    "         self.previous_value += w * (value - self.previous_value)\r\n",
    "\r\n",
    "         # Increment the bin we are completing (history[ibin]) and mean\r\n",
    "         #bin_end_value = (1 - w) * self.previous_value + w * value\r\n",
    "         #self.history[self.ibin] += 0.5 * dt * (self.previous_value + bin_end_value) / p\r\n",
    "         self.history[self.ibin] = numpy.maximum(self.history[self.ibin], self.previous_value)\r\n",
    "         self.complete = self.complete or self.ibin == n - 1\r\n",
    "         if self.complete:\r\n",
    "            self.max = numpy.max(self.history[:, ...], axis=0)\r\n",
    "         self.ibin = 0 if self.ibin == n - 1 else self.ibin + 1\r\n",
    "         self.history[self.ibin] = self.previous_value\r\n",
    "\r\n",
    "         self.bin_end_time += p / n\r\n",
    "\r\n",
    "      # Update the maximum of the current bin\r\n",
    "      self.history[self.ibin] = numpy.maximum(self.history[self.ibin], value)\r\n",
    "\r\n",
    "      # Store current time and value to enable linear interpolation in subsequent call.\r\n",
    "      self.previous_time = now\r\n",
    "      self.previous_value = value\r\n",
    "      return self.max"
   ],
   "outputs": [],
   "metadata": {}
  },
  {
   "cell_type": "code",
   "execution_count": null,
   "source": [
    "# Calculate and plot variable for which to compute the running maximum\r\n",
    "times = numpy.arange(0, duration, delta_t)\r\n",
    "values = numpy.sin(2 * numpy.pi * times / 3)\r\n",
    "\r\n",
    "fig, ax  = pyplot.subplots(figsize=(15, 4))\r\n",
    "ax.plot(times, values)\r\n",
    "ax.grid()"
   ],
   "outputs": [],
   "metadata": {}
  },
  {
   "cell_type": "code",
   "execution_count": null,
   "source": [
    "# Compute and plot the running maximum\r\n",
    "filter = Filter()\r\n",
    "filtered = numpy.empty_like(values)\r\n",
    "for i, (time, value) in enumerate(zip(times, values)):\r\n",
    "   filtered[i] = filter(time, value)\r\n",
    "\r\n",
    "fig, ax  = pyplot.subplots(figsize=(15, 4))\r\n",
    "ax.plot(times, values)\r\n",
    "ax.plot(times, filtered)\r\n",
    "ax.grid()"
   ],
   "outputs": [],
   "metadata": {}
  },
  {
   "cell_type": "code",
   "execution_count": null,
   "source": [
    "# Compare running maximum with analytical solution\r\n",
    "# (this requires the window size to be a multiple of the model time step)\r\n",
    "assert abs(p % delta_t) < 1e-15, 'Window size %s is not a multiple of the model time step %s. Residual: %s' % (p, delta_t, p % delta_t)\r\n",
    "nstep = int(round(p / delta_t))\r\n",
    "analytical = numpy.full_like(values, missing_value)\r\n",
    "for i, (time, value) in enumerate(zip(times, values)):\r\n",
    "   if i >= nstep:\r\n",
    "      analytical[i] = values[i - nstep:i + 1].max()\r\n",
    "\r\n",
    "fig, ax  = pyplot.subplots(figsize=(15, 4))\r\n",
    "ax.plot(times, filtered - analytical)\r\n",
    "ax.grid()\r\n"
   ],
   "outputs": [],
   "metadata": {}
  },
  {
   "cell_type": "code",
   "execution_count": null,
   "source": [
    "# Now try with randomly varying time step\r\n",
    "filter = Filter()\r\n",
    "time = 0.\r\n",
    "rtimes, rvalues, rfiltered = [], [], []\r\n",
    "while time < duration:\r\n",
    "   value = numpy.sin(2 * numpy.pi * time / 3)\r\n",
    "   rtimes.append(time)\r\n",
    "   rvalues.append(value)\r\n",
    "   rfiltered.append(filter(time, value))\r\n",
    "   dt = 2 * delta_t * numpy.random.rand()\r\n",
    "   time += dt\r\n",
    "\r\n",
    "fig, ax  = pyplot.subplots(figsize=(15, 4))\r\n",
    "ax.plot(rtimes, rvalues)\r\n",
    "ax.plot(rtimes, rfiltered)\r\n",
    "ax.grid()"
   ],
   "outputs": [],
   "metadata": {}
  },
  {
   "cell_type": "code",
   "execution_count": null,
   "source": [
    "# Now try the running maximum filter in FABM itself\r\n",
    "import pyfabm\r\n",
    "config = {'instances': {'max': {'model': 'surface_temporal_maximum', 'parameters': {'window': p, 'n': n, 'missing_value': missing_value}}}}\r\n",
    "m = pyfabm.Model(config)\r\n",
    "invar = m.findDependency('max/source')\r\n",
    "outvar = m.findDiagnosticVariable('max/max')\r\n",
    "invar.value = missing_value\r\n",
    "m.cell_thickness = 1\r\n",
    "m.start()\r\n",
    "fabm_fitered = numpy.empty_like(values)\r\n",
    "for i, (time, value) in enumerate(zip(times, values)):\r\n",
    "   invar.value = value\r\n",
    "   m.getRates(time, surface=True)\r\n",
    "   fabm_fitered[i] = outvar.value\r\n",
    "\r\n",
    "fig, ax  = pyplot.subplots(figsize=(15, 4))\r\n",
    "ax.plot(times, values)\r\n",
    "ax.plot(times, fabm_fitered)\r\n",
    "ax.grid()\r\n",
    "\r\n",
    "fig, ax  = pyplot.subplots(figsize=(15, 4))\r\n",
    "ax.plot(times, fabm_fitered - analytical)\r\n",
    "ax.grid()\r\n"
   ],
   "outputs": [],
   "metadata": {}
  },
  {
   "cell_type": "code",
   "execution_count": null,
   "source": [],
   "outputs": [],
   "metadata": {}
  }
 ],
 "metadata": {
  "orig_nbformat": 4,
  "language_info": {
   "name": "python",
   "version": "3.8.8",
   "mimetype": "text/x-python",
   "codemirror_mode": {
    "name": "ipython",
    "version": 3
   },
   "pygments_lexer": "ipython3",
   "nbconvert_exporter": "python",
   "file_extension": ".py"
  },
  "kernelspec": {
   "name": "python3",
   "display_name": "Python 3.8.8 64-bit ('base': conda)"
  },
  "interpreter": {
   "hash": "97ae724bfa85b9b34df7982b8bb8c7216f435b92902d749e4263f71162bea840"
  }
 },
 "nbformat": 4,
 "nbformat_minor": 2
}